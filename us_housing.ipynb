{
 "cells": [
  {
   "cell_type": "markdown",
   "id": "94f1d454-0e8c-42ac-ac1d-bca62baeea3d",
   "metadata": {},
   "source": [
    "Decision Tree Regression"
   ]
  },
  {
   "cell_type": "markdown",
   "id": "2c3f12e3-2c88-406d-93ae-c5ee89ffd34a",
   "metadata": {},
   "source": [
    "Importing Libraries"
   ]
  },
  {
   "cell_type": "code",
   "execution_count": 18,
   "id": "44b1bb0a-45ba-4290-af0c-3389200ec84f",
   "metadata": {},
   "outputs": [],
   "source": [
    "import numpy as np\n",
    "%matplotlib inline\n",
    "import matplotlib.pyplot as plt\n",
    "plt.style.use('fivethirtyeight')\n",
    "import matplotlib.ticker as ticker\n",
    "import datascience as ds\n",
    "import pandas as pd\n",
    "from sklearn.tree import DecisionTreeRegressor, export_text, plot_tree\n",
    "from sklearn.model_selection import train_test_split\n",
    "from sklearn.metrics import mean_squared_error, r2_score"
   ]
  },
  {
   "cell_type": "markdown",
   "id": "ff81b486-29ff-4333-9d16-3f2b643fef1a",
   "metadata": {},
   "source": [
    "Read in the Data"
   ]
  },
  {
   "cell_type": "code",
   "execution_count": 2,
   "id": "74a607d3-a334-42d6-a367-cb44ebb88098",
   "metadata": {},
   "outputs": [
    {
     "data": {
      "text/html": [
       "<table border=\"1\" class=\"dataframe\">\n",
       "    <thead>\n",
       "        <tr>\n",
       "            <th>price</th> <th>bedrooms</th> <th>bathrooms</th> <th>sqft_living</th> <th>sqft_lot</th> <th>floors</th> <th>waterfront</th> <th>view</th> <th>condition</th> <th>sqft_above</th> <th>sqft_basement</th> <th>yr_built</th> <th>yr_renovated</th>\n",
       "        </tr>\n",
       "    </thead>\n",
       "    <tbody>\n",
       "        <tr>\n",
       "            <td>376000     </td> <td>3       </td> <td>2        </td> <td>1340       </td> <td>1384    </td> <td>3     </td> <td>0         </td> <td>0   </td> <td>3        </td> <td>1340      </td> <td>0            </td> <td>2008    </td> <td>0           </td>\n",
       "        </tr>\n",
       "        <tr>\n",
       "            <td>800000     </td> <td>4       </td> <td>3.25     </td> <td>3540       </td> <td>159430  </td> <td>2     </td> <td>0         </td> <td>0   </td> <td>3        </td> <td>3540      </td> <td>0            </td> <td>2007    </td> <td>0           </td>\n",
       "        </tr>\n",
       "        <tr>\n",
       "            <td>2.23889e+06</td> <td>5       </td> <td>6.5      </td> <td>7270       </td> <td>130017  </td> <td>2     </td> <td>0         </td> <td>0   </td> <td>3        </td> <td>6420      </td> <td>850          </td> <td>2010    </td> <td>0           </td>\n",
       "        </tr>\n",
       "        <tr>\n",
       "            <td>324000     </td> <td>3       </td> <td>2.25     </td> <td>998        </td> <td>904     </td> <td>2     </td> <td>0         </td> <td>0   </td> <td>3        </td> <td>798       </td> <td>200          </td> <td>2007    </td> <td>0           </td>\n",
       "        </tr>\n",
       "        <tr>\n",
       "            <td>549900     </td> <td>5       </td> <td>2.75     </td> <td>3060       </td> <td>7015    </td> <td>1     </td> <td>0         </td> <td>0   </td> <td>5        </td> <td>1600      </td> <td>1460         </td> <td>1979    </td> <td>0           </td>\n",
       "        </tr>\n",
       "    </tbody>\n",
       "</table>\n",
       "<p>... (4135 rows omitted)</p>"
      ],
      "text/plain": [
       "<IPython.core.display.HTML object>"
      ]
     },
     "metadata": {},
     "output_type": "display_data"
    }
   ],
   "source": [
    "us_housing_table = ds.Table.read_table(\"housing_data_cleaned.csv\")\n",
    "us_housing_table.show(5)"
   ]
  },
  {
   "cell_type": "markdown",
   "id": "2e1d1a3d-0279-434e-b148-444c22158ee6",
   "metadata": {},
   "source": [
    "Extract Response and Predictor Arrays"
   ]
  },
  {
   "cell_type": "code",
   "execution_count": 3,
   "id": "a4bf716a-6c1d-4bd2-a854-949c6efe1833",
   "metadata": {},
   "outputs": [],
   "source": [
    "# Response\n",
    "prices = us_housing_table.column(\"price\")\n",
    "\n",
    "# Predictors \n",
    "bedrooms = us_housing_table.column(\"bedrooms\")\n",
    "bathrooms = us_housing_table.column(\"bathrooms\")\n",
    "sqft_living = us_housing_table.column(\"sqft_living\")\n",
    "sqft_lot = us_housing_table.column(\"sqft_lot\")\n",
    "floors = us_housing_table.column(\"floors\")\n",
    "waterfront = us_housing_table.column(\"waterfront\")\n",
    "view = us_housing_table.column(\"view\")\n",
    "condition = us_housing_table.column(\"condition\")\n",
    "sqft_above = us_housing_table.column(\"sqft_above\")\n",
    "sqft_basement = us_housing_table.column(\"sqft_basement\")\n",
    "yr_built = us_housing_table.column(\"yr_built\")\n",
    "yr_renovated = us_housing_table.column(\"yr_renovated\")"
   ]
  },
  {
   "cell_type": "markdown",
   "id": "96ab5607-f46f-4303-b779-0710caa62809",
   "metadata": {},
   "source": [
    "Set Seed"
   ]
  },
  {
   "cell_type": "code",
   "execution_count": 4,
   "id": "24118e75-ba69-45e6-abc7-b3c4f2c13fe3",
   "metadata": {},
   "outputs": [],
   "source": [
    "seed = 100\n",
    "np.random.seed(seed)"
   ]
  },
  {
   "cell_type": "markdown",
   "id": "ab79d405-e170-4d7c-b9d7-56458077c0cb",
   "metadata": {},
   "source": [
    "Split Into Training and Test Data"
   ]
  },
  {
   "cell_type": "code",
   "execution_count": 7,
   "id": "67c66f54-200c-479e-a434-d4a63f4be514",
   "metadata": {},
   "outputs": [],
   "source": [
    "# 2D Array of Predictors\n",
    "X = np.column_stack([\n",
    "    bedrooms, bathrooms, sqft_living, sqft_lot, floors,\n",
    "    waterfront, view, condition, sqft_above, sqft_basement,\n",
    "    yr_built, yr_renovated\n",
    "])\n",
    "\n",
    "# Response Array\n",
    "Y = prices\n",
    "#Y = np.log1p(prices) \n",
    "\n",
    "x_train, x_test, y_train, y_test = train_test_split(X, Y, test_size=0.2, random_state=seed)"
   ]
  },
  {
   "cell_type": "markdown",
   "id": "b6f01e85-40ca-4472-9373-01317bf34985",
   "metadata": {},
   "source": [
    "Finding the Best Tree Depth"
   ]
  },
  {
   "cell_type": "code",
   "execution_count": 8,
   "id": "2e03bce3-cc77-4c3c-bc70-79fe713d29c7",
   "metadata": {},
   "outputs": [
    {
     "name": "stdout",
     "output_type": "stream",
     "text": [
      "Depth: 31, R²: -6.3595, MSE: 956037538514.9497\n",
      "Depth: 1, R²: 0.2713, MSE: 94658946225\n",
      "Depth: 2, R²: 0.2352, MSE: 99353817957\n",
      "Depth: 3, R²: 0.3419, MSE: 85493182119\n",
      "Depth: 4, R²: 0.1994, MSE: 104005011193\n",
      "Depth: 5, R²: -1.2044, MSE: 286365237628\n",
      "Depth: 6, R²: 0.3380, MSE: 85992238517\n",
      "Depth: 7, R²: 0.3084, MSE: 89841358995\n",
      "Depth: 8, R²: -6.1339, MSE: 926733042047\n",
      "Depth: 9, R²: 0.2426, MSE: 98392705443\n",
      "Depth: 10, R²: 0.1985, MSE: 104124597347\n",
      "Depth: 11, R²: -6.2696, MSE: 944368845109\n",
      "Depth: 12, R²: -6.2381, MSE: 940270674301\n",
      "Depth: 13, R²: 0.1182, MSE: 114554338188\n",
      "Depth: 14, R²: -6.2752, MSE: 945087800196\n",
      "Depth: 15, R²: -6.2967, MSE: 947888402745\n",
      "Depth: 16, R²: -6.2582, MSE: 942878030445\n",
      "Depth: 17, R²: -6.3324, MSE: 952517718568\n",
      "Depth: 18, R²: 0.0259, MSE: 126546100546\n",
      "Depth: 19, R²: 0.0109, MSE: 128484733783\n",
      "Depth: 20, R²: -6.3081, MSE: 949362322329\n"
     ]
    }
   ],
   "source": [
    "# No Maximum Depth Specified\n",
    "model = DecisionTreeRegressor(random_state=seed)\n",
    "model.fit(x_train, y_train)\n",
    "y_pred = model.predict(x_test)\n",
    "mse = mean_squared_error(y_test, y_pred)\n",
    "print(f\"Depth: {model.get_depth()}, R²: {r2_score(y_test, y_pred):.4f}, MSE: {mse:.4f}\")\n",
    "\n",
    "# Max Depth 1 - 20\n",
    "for depth in np.arange(1, 21, 1):\n",
    "    model = DecisionTreeRegressor(max_depth=depth, random_state=seed)\n",
    "    model.fit(x_train, y_train)\n",
    "    y_pred = model.predict(x_test)\n",
    "    mse = mean_squared_error(y_test, y_pred)\n",
    "    print(f\"Depth: {depth}, R²: {r2_score(y_test, y_pred):.4f}, MSE: {mse:.0f}\")"
   ]
  },
  {
   "cell_type": "markdown",
   "id": "8135d37c-c58f-4b54-a901-1a9ab11af43e",
   "metadata": {},
   "source": [
    "Identify Features Based on Their Importance"
   ]
  },
  {
   "cell_type": "code",
   "execution_count": 12,
   "id": "754275f6-9694-4119-8c90-752ec4cd8dbd",
   "metadata": {},
   "outputs": [
    {
     "data": {
      "image/png": "[encoded data removed]",
      "text/plain": [
       "<Figure size 1000x600 with 1 Axes>"
      ]
     },
     "metadata": {},
     "output_type": "display_data"
    }
   ],
   "source": [
    "regressor = DecisionTreeRegressor(max_depth=3, random_state=seed)\n",
    "regressor.fit(x_train, y_train)\n",
    "\n",
    "feature_names = [\n",
    "    \"bedrooms\", \"bathrooms\", \"sqft_living\", \"sqft_lot\", \"floors\",\n",
    "    \"waterfront\", \"view\", \"condition\", \"sqft_above\", \"sqft_basement\",\n",
    "    \"yr_built\", \"yr_renovated\"\n",
    "]\n",
    "importances = regressor.feature_importances_\n",
    "\n",
    "importance_df = pd.DataFrame({\n",
    "    \"Feature\": feature_names,\n",
    "    \"Importance\": importances\n",
    "}).sort_values(by=\"Importance\", ascending=False)\n",
    "\n",
    "plt.figure(figsize=(10, 6))\n",
    "plt.barh(importance_df[\"Feature\"], importance_df[\"Importance\"])\n",
    "plt.xlabel(\"Feature Importance\")\n",
    "plt.title(\"Decision Tree Feature Importances\")\n",
    "plt.gca().invert_yaxis()\n",
    "plt.show()"
   ]
  },
  {
   "cell_type": "code",
   "execution_count": 13,
   "id": "4dbd9dcc-e726-493b-b02c-8c582923ddf4",
   "metadata": {},
   "outputs": [
    {
     "data": {
      "text/html": [
       "<table border=\"1\" class=\"dataframe\">\n",
       "    <thead>\n",
       "        <tr>\n",
       "            <th>price</th> <th>bedrooms</th> <th>bathrooms</th> <th>sqft_living</th> <th>sqft_lot</th> <th>floors</th> <th>waterfront</th> <th>view</th> <th>condition</th> <th>sqft_above</th> <th>sqft_basement</th> <th>yr_built</th> <th>yr_renovated</th>\n",
       "        </tr>\n",
       "    </thead>\n",
       "    <tbody>\n",
       "        <tr>\n",
       "            <td>376000     </td> <td>3       </td> <td>2        </td> <td>1340       </td> <td>1384    </td> <td>3     </td> <td>0         </td> <td>0   </td> <td>3        </td> <td>1340      </td> <td>0            </td> <td>2008    </td> <td>0           </td>\n",
       "        </tr>\n",
       "        <tr>\n",
       "            <td>800000     </td> <td>4       </td> <td>3.25     </td> <td>3540       </td> <td>159430  </td> <td>2     </td> <td>0         </td> <td>0   </td> <td>3        </td> <td>3540      </td> <td>0            </td> <td>2007    </td> <td>0           </td>\n",
       "        </tr>\n",
       "        <tr>\n",
       "            <td>2.23889e+06</td> <td>5       </td> <td>6.5      </td> <td>7270       </td> <td>130017  </td> <td>2     </td> <td>0         </td> <td>0   </td> <td>3        </td> <td>6420      </td> <td>850          </td> <td>2010    </td> <td>0           </td>\n",
       "        </tr>\n",
       "    </tbody>\n",
       "</table>\n",
       "<p>... (4137 rows omitted)</p>"
      ],
      "text/plain": [
       "<IPython.core.display.HTML object>"
      ]
     },
     "metadata": {},
     "output_type": "display_data"
    },
    {
     "data": {
      "text/html": [
       "<div>\n",
       "<style scoped>\n",
       "    .dataframe tbody tr th:only-of-type {\n",
       "        vertical-align: middle;\n",
       "    }\n",
       "\n",
       "    .dataframe tbody tr th {\n",
       "        vertical-align: top;\n",
       "    }\n",
       "\n",
       "    .dataframe thead th {\n",
       "        text-align: right;\n",
       "    }\n",
       "</style>\n",
       "<table border=\"1\" class=\"dataframe\">\n",
       "  <thead>\n",
       "    <tr style=\"text-align: right;\">\n",
       "      <th></th>\n",
       "      <th>Feature</th>\n",
       "      <th>Importance</th>\n",
       "    </tr>\n",
       "  </thead>\n",
       "  <tbody>\n",
       "    <tr>\n",
       "      <th>2</th>\n",
       "      <td>sqft_living</td>\n",
       "      <td>0.971608</td>\n",
       "    </tr>\n",
       "    <tr>\n",
       "      <th>10</th>\n",
       "      <td>yr_built</td>\n",
       "      <td>0.028392</td>\n",
       "    </tr>\n",
       "    <tr>\n",
       "      <th>0</th>\n",
       "      <td>bedrooms</td>\n",
       "      <td>0.000000</td>\n",
       "    </tr>\n",
       "    <tr>\n",
       "      <th>1</th>\n",
       "      <td>bathrooms</td>\n",
       "      <td>0.000000</td>\n",
       "    </tr>\n",
       "    <tr>\n",
       "      <th>3</th>\n",
       "      <td>sqft_lot</td>\n",
       "      <td>0.000000</td>\n",
       "    </tr>\n",
       "    <tr>\n",
       "      <th>4</th>\n",
       "      <td>floors</td>\n",
       "      <td>0.000000</td>\n",
       "    </tr>\n",
       "    <tr>\n",
       "      <th>5</th>\n",
       "      <td>waterfront</td>\n",
       "      <td>0.000000</td>\n",
       "    </tr>\n",
       "    <tr>\n",
       "      <th>6</th>\n",
       "      <td>view</td>\n",
       "      <td>0.000000</td>\n",
       "    </tr>\n",
       "    <tr>\n",
       "      <th>7</th>\n",
       "      <td>condition</td>\n",
       "      <td>0.000000</td>\n",
       "    </tr>\n",
       "    <tr>\n",
       "      <th>8</th>\n",
       "      <td>sqft_above</td>\n",
       "      <td>0.000000</td>\n",
       "    </tr>\n",
       "    <tr>\n",
       "      <th>9</th>\n",
       "      <td>sqft_basement</td>\n",
       "      <td>0.000000</td>\n",
       "    </tr>\n",
       "    <tr>\n",
       "      <th>11</th>\n",
       "      <td>yr_renovated</td>\n",
       "      <td>0.000000</td>\n",
       "    </tr>\n",
       "  </tbody>\n",
       "</table>\n",
       "</div>"
      ],
      "text/plain": [
       "          Feature  Importance\n",
       "2     sqft_living    0.971608\n",
       "10       yr_built    0.028392\n",
       "0        bedrooms    0.000000\n",
       "1       bathrooms    0.000000\n",
       "3        sqft_lot    0.000000\n",
       "4          floors    0.000000\n",
       "5      waterfront    0.000000\n",
       "6            view    0.000000\n",
       "7       condition    0.000000\n",
       "8      sqft_above    0.000000\n",
       "9   sqft_basement    0.000000\n",
       "11   yr_renovated    0.000000"
      ]
     },
     "execution_count": 13,
     "metadata": {},
     "output_type": "execute_result"
    }
   ],
   "source": [
    "us_housing_table.show(3)\n",
    "importance_df"
   ]
  },
  {
   "cell_type": "code",
   "execution_count": 16,
   "id": "a5ff7006-8baa-45d4-9e5a-7ab4ca3c1359",
   "metadata": {},
   "outputs": [
    {
     "name": "stdout",
     "output_type": "stream",
     "text": [
      "Depth: 31, R²: -6.3177, MSE: 950607944478.2084\n",
      "Depth: 1, R²: 0.2713, MSE: 94658946225\n",
      "Depth: 2, R²: 0.2352, MSE: 99353817957\n",
      "Depth: 3, R²: 0.3419, MSE: 85493182119\n",
      "Depth: 4, R²: 0.1994, MSE: 104005011193\n",
      "Depth: 5, R²: -1.2084, MSE: 286887200364\n",
      "Depth: 6, R²: -6.0071, MSE: 910264863036\n",
      "Depth: 7, R²: 0.2853, MSE: 92847577736\n",
      "Depth: 8, R²: 0.2482, MSE: 97658741119\n",
      "Depth: 9, R²: -6.1218, MSE: 925166023141\n",
      "Depth: 10, R²: -6.1671, MSE: 931050070075\n",
      "Depth: 11, R²: 0.1184, MSE: 114520908465\n",
      "Depth: 12, R²: -6.2264, MSE: 938753844663\n",
      "Depth: 13, R²: 0.0569, MSE: 122513863871\n",
      "Depth: 14, R²: -6.3304, MSE: 952269802595\n",
      "Depth: 15, R²: 0.0375, MSE: 125034862494\n",
      "Depth: 16, R²: 0.0698, MSE: 120832777829\n",
      "Depth: 17, R²: -6.2644, MSE: 943692398194\n",
      "Depth: 18, R²: 0.0746, MSE: 120210315002\n",
      "Depth: 19, R²: 0.0593, MSE: 122205303202\n",
      "Depth: 20, R²: -6.3470, MSE: 954421365604\n"
     ]
    }
   ],
   "source": [
    "# One-hot encoding \n",
    "df = us_housing_table.to_df()\n",
    "df_encoded = pd.get_dummies(df, columns=['view'], prefix=['view'])\n",
    "Y = df_encoded['price'].values\n",
    "new_X = df_encoded.drop(columns=['price']).values\n",
    "\n",
    "x_train, x_test, y_train, y_test = train_test_split(new_X, Y, test_size=0.2, random_state=seed)\n",
    "\n",
    "# No Maximum Depth Specified\n",
    "model = DecisionTreeRegressor(random_state=seed)\n",
    "model.fit(x_train, y_train)\n",
    "y_pred = model.predict(x_test)\n",
    "mse = mean_squared_error(y_test, y_pred)\n",
    "print(f\"Depth: {model.get_depth()}, R²: {r2_score(y_test, y_pred):.4f}, MSE: {mse:.4f}\")\n",
    "\n",
    "# Max Depth 1 - 20\n",
    "for depth in np.arange(1, 21, 1):\n",
    "    model = DecisionTreeRegressor(max_depth=depth, random_state=seed)\n",
    "    model.fit(x_train, y_train)\n",
    "    y_pred = model.predict(x_test)\n",
    "    mse = mean_squared_error(y_test, y_pred)\n",
    "    print(f\"Depth: {depth}, R²: {r2_score(y_test, y_pred):.4f}, MSE: {mse:.0f}\")"
   ]
  },
  {
   "cell_type": "code",
   "execution_count": 17,
   "id": "e69ee7b9-e58a-4596-8e92-31041fe520c9",
   "metadata": {},
   "outputs": [
    {
     "name": "stdout",
     "output_type": "stream",
     "text": [
      "Mean Squared Error: 85493182119.4575\n"
     ]
    }
   ],
   "source": [
    "model = DecisionTreeRegressor(max_depth=3, random_state=seed)\n",
    "model.fit(x_train, y_train)\n",
    "y_pred = model.predict(x_test)\n",
    "\n",
    "mse = mean_squared_error(y_test, y_pred)\n",
    "print(f\"Mean Squared Error: {mse:.4f}\")"
   ]
  },
  {
   "cell_type": "code",
   "execution_count": null,
   "id": "f2c3563f-52d1-419e-8e3a-2f9acbcf3a73",
   "metadata": {},
   "outputs": [],
   "source": []
  }
 ],
 "metadata": {
  "kernelspec": {
   "display_name": "Python 3 (ipykernel)",
   "language": "python",
   "name": "python3"
  },
  "language_info": {
   "codemirror_mode": {
    "name": "ipython",
    "version": 3
   },
   "file_extension": ".py",
   "mimetype": "text/x-python",
   "name": "python",
   "nbconvert_exporter": "python",
   "pygments_lexer": "ipython3",
   "version": "3.12.0"
  }
 },
 "nbformat": 4,
 "nbformat_minor": 5
}
